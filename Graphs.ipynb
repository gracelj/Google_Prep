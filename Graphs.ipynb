{
 "cells": [
  {
   "cell_type": "code",
   "execution_count": 1,
   "metadata": {},
   "outputs": [],
   "source": [
    "# 2019/09/08"
   ]
  },
  {
   "cell_type": "markdown",
   "metadata": {},
   "source": [
    "# Trees"
   ]
  },
  {
   "cell_type": "raw",
   "metadata": {},
   "source": [
    "# tree is a graph without any loop"
   ]
  },
  {
   "cell_type": "markdown",
   "metadata": {},
   "source": [
    "# DFS\n",
    "depth first search"
   ]
  },
  {
   "cell_type": "markdown",
   "metadata": {},
   "source": [
    "# BFS\n",
    "breath first search"
   ]
  },
  {
   "cell_type": "markdown",
   "metadata": {},
   "source": [
    "# MST\n",
    "minimum spanning tree\n",
    "example: install internet in n rooms"
   ]
  },
  {
   "cell_type": "markdown",
   "metadata": {},
   "source": [
    "## set\n",
    "Every element is unique (no duplicates) and must be immutable (which cannot be changed).\n",
    "However, the set itself is mutable. So we can not have a set of sets.\n",
    "\n",
    "set() method is used to convert any of the iterable\n",
    "hence set(1) does not work, but the following works"
   ]
  },
  {
   "cell_type": "code",
   "execution_count": 1,
   "metadata": {},
   "outputs": [
    {
     "data": {
      "text/plain": [
       "{1}"
      ]
     },
     "execution_count": 1,
     "metadata": {},
     "output_type": "execute_result"
    }
   ],
   "source": [
    "set([1])\n",
    "{1}"
   ]
  },
  {
   "cell_type": "code",
   "execution_count": null,
   "metadata": {},
   "outputs": [],
   "source": [
    "# K method: it is important in union function, change root step. Change the ROOT's root in indexing list\n",
    "Class Forest:\n",
    "    def __init__(self, N):\n",
    "        self.root = [i for i in range(N+1)]\n",
    "        self.no_r = N\n",
    "    def find(self, v): # return the root of v\n",
    "        # not single node\n",
    "        if self.root[v] != v:\n",
    "            self.root[v] = self.find(self.root[v])\n",
    "        return self.root[v]\n",
    "    def union(self, v1, v2):\n",
    "        r1, r2 = self.root(v1), self.root(v2)\n",
    "        if r1 != r2:\n",
    "            self.root[v1] = r2\n",
    "            self.no_r -= 1\n",
    "            return True\n",
    "        return False\n",
    "    \n",
    "Class K_solution:\n",
    "    def minimumCost(self, N: int, connections: List[List[int]]):\n",
    "        f = Forest(N)\n",
    "        cost = 0\n",
    "        for v1, v2, e in sorted(connections, key = lambda x: x[-1]):\n",
    "            if union(v1, v2):\n",
    "                cost += e\n",
    "        return cost if f.no_r == 1 else -1"
   ]
  }
 ],
 "metadata": {
  "kernelspec": {
   "display_name": "Python 3",
   "language": "python",
   "name": "python3"
  },
  "language_info": {
   "codemirror_mode": {
    "name": "ipython",
    "version": 3
   },
   "file_extension": ".py",
   "mimetype": "text/x-python",
   "name": "python",
   "nbconvert_exporter": "python",
   "pygments_lexer": "ipython3",
   "version": "3.7.3"
  }
 },
 "nbformat": 4,
 "nbformat_minor": 2
}
