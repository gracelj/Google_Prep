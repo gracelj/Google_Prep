{
 "cells": [
  {
   "cell_type": "code",
   "execution_count": 7,
   "metadata": {},
   "outputs": [],
   "source": [
    "# 2019/09/08\n",
    "import timeit as t"
   ]
  },
  {
   "cell_type": "markdown",
   "metadata": {},
   "source": [
    "# Insertion Sort\n"
   ]
  },
  {
   "cell_type": "code",
   "execution_count": 1,
   "metadata": {},
   "outputs": [],
   "source": [
    "def insertion_sort(L):\n",
    "    if len(L) == 1:\n",
    "        return L\n",
    "    for i in range(1, len(L)):\n",
    "        while i > 0 and L[i-1] > L[i]:\n",
    "            L[i], L[i-1] = L[i-1], L[i]\n",
    "            i -= 1\n",
    "    return L"
   ]
  },
  {
   "cell_type": "code",
   "execution_count": 12,
   "metadata": {},
   "outputs": [
    {
     "name": "stdout",
     "output_type": "stream",
     "text": [
      "10 µs ± 1.65 µs per loop (mean ± std. dev. of 7 runs, 100000 loops each)\n",
      "455 ns ± 19.3 ns per loop (mean ± std. dev. of 7 runs, 1000000 loops each)\n"
     ]
    }
   ],
   "source": [
    "%timeit insertion_sort([3,2,2,34,1,4,0,2,1,2,21])\n",
    "%timeit sorted([3,2,2,34,1,4,0,2,1,2,21])"
   ]
  },
  {
   "cell_type": "markdown",
   "metadata": {},
   "source": [
    "# Merge Sort\n"
   ]
  },
  {
   "cell_type": "code",
   "execution_count": 12,
   "metadata": {},
   "outputs": [],
   "source": [
    "def merge(left, right):\n",
    "    result = []\n",
    "    left_i, right_i = 0,0\n",
    "    \n",
    "    while left_i < len(left) and right_i < len(right):\n",
    "        if left[left_i] <= right[right_i]:\n",
    "            result.append(left[left_i])\n",
    "            left_i += 1\n",
    "        else:\n",
    "            result.append(right[right_i])\n",
    "            right_i += 1\n",
    "        \n",
    "        \n",
    "    if left_i < len(left):\n",
    "        result.extend(left[left_i:])\n",
    "    elif right_i < len(right):\n",
    "        result.extend(right[right_i:])\n",
    "        \n",
    "    return result\n",
    "\n",
    "def merge_sort(L):\n",
    "    if len(L) <= 1:\n",
    "        return L\n",
    "    middle = len(L)//2\n",
    "    left = merge_sort(L[:middle])\n",
    "    right = merge_sort(L[middle:])\n",
    "    return merge(left, right)"
   ]
  },
  {
   "cell_type": "code",
   "execution_count": 14,
   "metadata": {},
   "outputs": [
    {
     "data": {
      "text/plain": [
       "[1, 3, 4, 7, 8, 9, 10, 14, 16, 2000]"
      ]
     },
     "execution_count": 14,
     "metadata": {},
     "output_type": "execute_result"
    }
   ],
   "source": [
    "A = [2000,8,1,4,14,7,16,10,9,3]\n",
    "sorted(A)\n",
    "# %timeit merge_sort(A)\n",
    "# %timeit sorted(A)"
   ]
  },
  {
   "cell_type": "markdown",
   "metadata": {},
   "source": [
    "### Complexity Analysis  \n",
    "time:  \n",
    "worst case | logn\\*n | 1,9,5,3,11,7,2,10,6,4,12,8  \n",
    "average case | logn\\*n  \n",
    "best case | logn\\*n | 1,2,3,4,5,6,7,8,9,10,11,12  "
   ]
  },
  {
   "cell_type": "markdown",
   "metadata": {},
   "source": [
    "# Quick Sort\n"
   ]
  },
  {
   "cell_type": "markdown",
   "metadata": {},
   "source": [
    "# Radix Sort"
   ]
  },
  {
   "cell_type": "code",
   "execution_count": 3,
   "metadata": {},
   "outputs": [
    {
     "data": {
      "text/plain": [
       "True"
      ]
     },
     "execution_count": 3,
     "metadata": {},
     "output_type": "execute_result"
    }
   ],
   "source": [
    "all([x // 2 == int(x/2) for x in range(3, 123)])"
   ]
  },
  {
   "cell_type": "code",
   "execution_count": null,
   "metadata": {},
   "outputs": [],
   "source": []
  }
 ],
 "metadata": {
  "kernelspec": {
   "display_name": "Python 3",
   "language": "python",
   "name": "python3"
  },
  "language_info": {
   "codemirror_mode": {
    "name": "ipython",
    "version": 3
   },
   "file_extension": ".py",
   "mimetype": "text/x-python",
   "name": "python",
   "nbconvert_exporter": "python",
   "pygments_lexer": "ipython3",
   "version": "3.7.3"
  }
 },
 "nbformat": 4,
 "nbformat_minor": 2
}
